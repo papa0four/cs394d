{
 "cells": [
  {
   "cell_type": "markdown",
   "metadata": {},
   "source": [
    "## Lecture 2.10: First Example - Summary"
   ]
  },
  {
   "cell_type": "markdown",
   "metadata": {},
   "source": [
    "### First Example - Summary\n",
    "\n",
    "Train a single layer deep network"
   ]
  },
  {
   "cell_type": "markdown",
   "metadata": {},
   "source": [
    "Task/Model:</br>\n",
    "$x\\ \\rightarrow\\ \\text{Linear(Wx + b)}\\ \\rightarrow \\text{y}$"
   ]
  },
  {
   "cell_type": "markdown",
   "metadata": {},
   "source": [
    "Dataset/Loss:</br>\n",
    "$l(\\theta\\ |\\ \\text{x, y})$"
   ]
  },
  {
   "cell_type": "markdown",
   "metadata": {},
   "source": [
    "Training/Optimization:</br>\n",
    "y-axis: loss</br>\n",
    "x-axis: iterations"
   ]
  },
  {
   "cell_type": "markdown",
   "metadata": {},
   "source": [
    "* We trained our first \"deep\" network </br>\n",
    "&ensp;&ensp; - Linear models - not very expensive </br>\n",
    "&ensp;&ensp; - Illustrated basic concepts of deep learning </br>\n",
    "&ensp;&ensp; - Overall setup and structure shared with deeper networks </br>\n",
    "* Next: Let's make the networks deeper"
   ]
  },
  {
   "cell_type": "markdown",
   "metadata": {},
   "source": []
  }
 ],
 "metadata": {
  "kernelspec": {
   "display_name": "Python 3",
   "language": "python",
   "name": "python3"
  },
  "language_info": {
   "name": "python",
   "version": "3.11.9"
  }
 },
 "nbformat": 4,
 "nbformat_minor": 2
}
