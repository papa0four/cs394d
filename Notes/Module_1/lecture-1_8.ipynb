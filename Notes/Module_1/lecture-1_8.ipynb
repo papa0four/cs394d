{
 "cells": [
  {
   "cell_type": "markdown",
   "metadata": {},
   "source": [
    "## Lecture 1.8: Tensors in PyTorch"
   ]
  },
  {
   "cell_type": "code",
   "execution_count": 1,
   "metadata": {},
   "outputs": [],
   "source": [
    "import torch"
   ]
  },
  {
   "cell_type": "code",
   "execution_count": 2,
   "metadata": {},
   "outputs": [
    {
     "name": "stdout",
     "output_type": "stream",
     "text": [
      "tensor([1., 2., 3.])\n"
     ]
    }
   ],
   "source": [
    "a = torch.tensor([1.0, 2, 3], dtype=torch.float32)\n",
    "print(a)\n",
    "# print(a.shape)\n",
    "# print(a.ndim)\n",
    "# print(a.dtype)"
   ]
  },
  {
   "cell_type": "code",
   "execution_count": 3,
   "metadata": {},
   "outputs": [
    {
     "name": "stdout",
     "output_type": "stream",
     "text": [
      "tensor([[[0.3613, 0.0599, 0.6705],\n",
      "         [0.8989, 0.8875, 0.0209],\n",
      "         [0.6869, 0.3221, 0.0412]],\n",
      "\n",
      "        [[0.3156, 0.4307, 0.0737],\n",
      "         [0.7950, 0.7931, 0.5011],\n",
      "         [0.5063, 0.5528, 0.0159]],\n",
      "\n",
      "        [[0.8925, 0.5243, 0.3097],\n",
      "         [0.4249, 0.3511, 0.0994],\n",
      "         [0.7861, 0.8516, 0.4885]]])\n"
     ]
    }
   ],
   "source": [
    "b = torch.rand([3, 3, 3], dtype=torch.float32)\n",
    "print(b)"
   ]
  },
  {
   "cell_type": "code",
   "execution_count": 4,
   "metadata": {},
   "outputs": [
    {
     "name": "stdout",
     "output_type": "stream",
     "text": [
      "torch.uint8\n"
     ]
    }
   ],
   "source": [
    "from PIL import Image\n",
    "import numpy as np\n",
    "\n",
    "img = Image.open('cat.jpg')\n",
    "c = torch.as_tensor(np.array(img))\n",
    "# print(c.shape)\n",
    "print(c.dtype)"
   ]
  },
  {
   "cell_type": "code",
   "execution_count": 5,
   "metadata": {},
   "outputs": [
    {
     "name": "stdout",
     "output_type": "stream",
     "text": [
      "a = tensor([0, 1, 2, 3, 4, 5, 6, 7, 8, 9])\n",
      "b = tensor([1., 1., 1., 1., 1., 1., 1., 1., 1., 1.])\n",
      "a + b = tensor([ 1.,  2.,  3.,  4.,  5.,  6.,  7.,  8.,  9., 10.])\n",
      "a ** (2*b) =tensor([ 0.,  1.,  4.,  9., 16., 25., 36., 49., 64., 81.])\n"
     ]
    }
   ],
   "source": [
    "a = torch.arange(10)\n",
    "b = torch.ones(10)\n",
    "print(f'{a = }')\n",
    "print(f'{b = }')\n",
    "print(f'{a + b = }')\n",
    "print(f'{a ** (2*b) =}')"
   ]
  },
  {
   "cell_type": "code",
   "execution_count": 7,
   "metadata": {},
   "outputs": [
    {
     "ename": "RuntimeError",
     "evalue": "The size of tensor a (4) must match the size of tensor b (5) at non-singleton dimension 0",
     "output_type": "error",
     "traceback": [
      "\u001b[1;31m---------------------------------------------------------------------------\u001b[0m",
      "\u001b[1;31mRuntimeError\u001b[0m                              Traceback (most recent call last)",
      "Cell \u001b[1;32mIn[7], line 3\u001b[0m\n\u001b[0;32m      1\u001b[0m a \u001b[38;5;241m=\u001b[39m torch\u001b[38;5;241m.\u001b[39mrand(\u001b[38;5;241m4\u001b[39m)\n\u001b[0;32m      2\u001b[0m b \u001b[38;5;241m=\u001b[39m torch\u001b[38;5;241m.\u001b[39mrand(\u001b[38;5;241m5\u001b[39m)\n\u001b[1;32m----> 3\u001b[0m \u001b[38;5;28mprint\u001b[39m(\u001b[43ma\u001b[49m\u001b[43m \u001b[49m\u001b[38;5;241;43m+\u001b[39;49m\u001b[43m \u001b[49m\u001b[43mb\u001b[49m)\n",
      "\u001b[1;31mRuntimeError\u001b[0m: The size of tensor a (4) must match the size of tensor b (5) at non-singleton dimension 0"
     ]
    }
   ],
   "source": [
    "a = torch.rand(4)\n",
    "b = torch.rand(5)\n",
    "print(a + b)"
   ]
  },
  {
   "cell_type": "code",
   "execution_count": 9,
   "metadata": {},
   "outputs": [],
   "source": [
    "a = torch.rand(1_000_000_000)\n",
    "b = torch.rand(1_000_000_000)\n",
    "c = a + b"
   ]
  },
  {
   "cell_type": "code",
   "execution_count": null,
   "metadata": {},
   "outputs": [
    {
     "name": "stdout",
     "output_type": "stream",
     "text": [
      "306 ms ± 15.8 ms per loop (mean ± std. dev. of 7 runs, 1 loop each)\n"
     ]
    }
   ],
   "source": [
    "%timeit c = a + b"
   ]
  },
  {
   "cell_type": "code",
   "execution_count": 10,
   "metadata": {},
   "outputs": [
    {
     "name": "stdout",
     "output_type": "stream",
     "text": [
      "The slowest run took 4.41 times longer than the fastest. This could mean that an intermediate result is being cached.\n",
      "15.6 µs ± 9.57 µs per loop (mean ± std. dev. of 7 runs, 1 loop each)\n"
     ]
    }
   ],
   "source": [
    "a_gpu = a.to('cuda')\n",
    "b_gpu = b.to('cuda')\n",
    "%timeit c_gpu = a_gpu + b_gpu"
   ]
  },
  {
   "cell_type": "code",
   "execution_count": 18,
   "metadata": {},
   "outputs": [
    {
     "name": "stdout",
     "output_type": "stream",
     "text": [
      "tensor([[0, 1, 2],\n",
      "        [3, 4, 5]])\n"
     ]
    }
   ],
   "source": [
    "a = torch.arange(6)\n",
    "# print(a)\n",
    "# print(a.shape)\n",
    "# print(a.view(2, 3))\n",
    "print(a.reshape(2, 3))"
   ]
  },
  {
   "cell_type": "code",
   "execution_count": 25,
   "metadata": {},
   "outputs": [
    {
     "name": "stdout",
     "output_type": "stream",
     "text": [
      "torch.Size([3, 4, 2])\n"
     ]
    }
   ],
   "source": [
    "a = torch.rand(2, 3, 4)\n",
    "# print(a, '\\n')\n",
    "# print(a.mT, '\\n')\n",
    "# print(a.permute(1, 2, 0))\n",
    "print(a.permute(1, 2, 0).shape)"
   ]
  },
  {
   "cell_type": "code",
   "execution_count": 35,
   "metadata": {},
   "outputs": [
    {
     "name": "stdout",
     "output_type": "stream",
     "text": [
      "tensor([[0, 1],\n",
      "        [2, 3],\n",
      "        [4, 5]])\n",
      "torch.Size([1, 3, 2])\n",
      "torch.Size([3, 1, 2])\n",
      "torch.Size([1, 3, 1, 2])\n"
     ]
    }
   ],
   "source": [
    "a = torch.arange(6).view(3, 2)\n",
    "print(a)\n",
    "print(a[None].shape)\n",
    "print(a[:, None].shape)\n",
    "print(a[None, :, None].shape)"
   ]
  },
  {
   "cell_type": "code",
   "execution_count": 39,
   "metadata": {},
   "outputs": [
    {
     "name": "stdout",
     "output_type": "stream",
     "text": [
      "torch.Size([3, 2, 1])\n",
      "torch.Size([3, 2, 1])\n",
      "torch.Size([3, 2, 1, 1])\n",
      "torch.Size([3, 2])\n"
     ]
    }
   ],
   "source": [
    "a = torch.arange(6).view(3, 2, 1, 1)\n",
    "# remove last index\n",
    "print(a.squeeze(-1).shape)\n",
    "print(a.squeeze(-2).shape)\n",
    "print(a.squeeze(0).shape)\n",
    "print(a.squeeze().shape)"
   ]
  },
  {
   "cell_type": "code",
   "execution_count": 41,
   "metadata": {},
   "outputs": [
    {
     "name": "stdout",
     "output_type": "stream",
     "text": [
      "tensor([[0.7367, 0.5177, 0.4988, 0.5919, 0.0253],\n",
      "        [1.4568, 1.2379, 1.2190, 1.3121, 0.7455],\n",
      "        [0.9643, 0.7454, 0.7264, 0.8196, 0.2530],\n",
      "        [0.9673, 0.7483, 0.7294, 0.8225, 0.2559]])\n"
     ]
    }
   ],
   "source": [
    "a = torch.rand(4, 1)\n",
    "b = torch.rand(1, 5)\n",
    "print(a + b)"
   ]
  },
  {
   "cell_type": "code",
   "execution_count": 45,
   "metadata": {},
   "outputs": [
    {
     "name": "stdout",
     "output_type": "stream",
     "text": [
      "a = tensor([[0],\n",
      "        [1],\n",
      "        [2],\n",
      "        [3]])\n",
      "b = tensor([[ 0, 10, 20, 30, 40]])\n",
      "tensor([[  0, -10, -20, -30, -40],\n",
      "        [  1,  -9, -19, -29, -39],\n",
      "        [  2,  -8, -18, -28, -38],\n",
      "        [  3,  -7, -17, -27, -37]])\n"
     ]
    }
   ],
   "source": [
    "a = torch.arange(4).view(4, 1)\n",
    "b = torch.arange(5).view(1, 5) * 10\n",
    "print(f'{a = }')\n",
    "print(f'{b = }')\n",
    "print(a - b)"
   ]
  },
  {
   "cell_type": "code",
   "execution_count": 52,
   "metadata": {},
   "outputs": [
    {
     "name": "stdout",
     "output_type": "stream",
     "text": [
      "tensor([[0.0000e+00, 1.2897e-01, 1.7387e+00, 1.4241e+00, 8.1280e+00, 7.7539e+00,\n",
      "         3.7374e+00, 1.0956e+00, 1.1147e+00, 7.6592e+00],\n",
      "        [1.2897e-01, 0.0000e+00, 9.3070e-01, 2.2426e+00, 1.0273e+01, 9.8526e+00,\n",
      "         3.5605e+00, 1.6968e+00, 1.9876e+00, 6.3061e+00],\n",
      "        [1.7387e+00, 9.3070e-01, 0.0000e+00, 5.3946e+00, 1.6996e+01, 1.6461e+01,\n",
      "         3.6392e+00, 4.2363e+00, 5.4766e+00, 3.3050e+00],\n",
      "        [1.4241e+00, 2.2426e+00, 5.3946e+00, 0.0000e+00, 3.4534e+00, 3.2275e+00,\n",
      "         3.3059e+00, 1.0265e-01, 2.5960e-01, 1.0430e+01],\n",
      "        [8.1280e+00, 1.0273e+01, 1.6996e+01, 3.4534e+00, 0.0000e+00, 4.4429e-03,\n",
      "         1.2368e+01, 4.7172e+00, 3.2237e+00, 2.5522e+01],\n",
      "        [7.7539e+00, 9.8526e+00, 1.6461e+01, 3.2275e+00, 4.4429e-03, 0.0000e+00,\n",
      "         1.2005e+01, 4.4561e+00, 2.9900e+00, 2.4947e+01],\n",
      "        [3.7374e+00, 3.5605e+00, 3.6392e+00, 3.3059e+00, 1.2368e+01, 1.2005e+01,\n",
      "         0.0000e+00, 2.3216e+00, 4.9613e+00, 2.6828e+00],\n",
      "        [1.0956e+00, 1.6968e+00, 4.2363e+00, 1.0265e-01, 4.7172e+00, 4.4561e+00,\n",
      "         2.3216e+00, 0.0000e+00, 5.1443e-01, 8.4639e+00],\n",
      "        [1.1147e+00, 1.9876e+00, 5.4766e+00, 2.5960e-01, 3.2237e+00, 2.9900e+00,\n",
      "         4.9613e+00, 5.1443e-01, 0.0000e+00, 1.2292e+01],\n",
      "        [7.6592e+00, 6.3061e+00, 3.3050e+00, 1.0430e+01, 2.5522e+01, 2.4947e+01,\n",
      "         2.6828e+00, 8.4639e+00, 1.2292e+01, 0.0000e+00]])\n"
     ]
    }
   ],
   "source": [
    "x = torch.randn(10, 2)\n",
    "d = torch.zeros(10, 10)\n",
    "\n",
    "# for i in range(10):\n",
    "#     for j in range(10):\n",
    "#         d[i, j] = (x[i] - x[j]).pow(2).sum()\n",
    "# print(d)\n",
    "\n",
    "# equivalent to nested for loop above\n",
    "d = (x[:, None, :] - x[None, :, :]).pow(2).sum(-1)\n",
    "print(d)"
   ]
  },
  {
   "cell_type": "code",
   "execution_count": 59,
   "metadata": {},
   "outputs": [
    {
     "name": "stdout",
     "output_type": "stream",
     "text": [
      "tensor(22.0544) (4, 7)\n",
      "tensor(22.0544) (tensor(4), tensor(7))\n"
     ]
    }
   ],
   "source": [
    "x = torch.randn(10, 2)\n",
    "d = torch.zeros(10, 10)\n",
    "max_dist, max_idx = 0, (-1, -1)\n",
    "\n",
    "for i in range(10):\n",
    "    for j in range(10):\n",
    "        if (x[i] - x[j]).pow(2).sum() > max_dist:\n",
    "            max_dist, max_idx = (x[i] - x[j]).pow(2).sum(), (i, j)\n",
    "print(max_dist, max_idx)\n",
    "\n",
    "d = (x[:, None, :] - x[None, :, :]).pow(2).sum(-1)\n",
    "print(d.max(), (d.argmax() // 10, d.argmax() % 10))"
   ]
  },
  {
   "cell_type": "code",
   "execution_count": 62,
   "metadata": {},
   "outputs": [
    {
     "name": "stdout",
     "output_type": "stream",
     "text": [
      "tensor([[0.5893, 1.0178, 0.8676],\n",
      "        [0.5194, 0.4649, 0.3327]])\n",
      "torch.Size([2, 3])\n"
     ]
    }
   ],
   "source": [
    "a = torch.rand(2, 4)\n",
    "b = torch.rand(4, 3)\n",
    "c = a @ b\n",
    "print(c)\n",
    "print(c.shape)"
   ]
  },
  {
   "cell_type": "code",
   "execution_count": 68,
   "metadata": {},
   "outputs": [
    {
     "name": "stdout",
     "output_type": "stream",
     "text": [
      "torch.Size([2])\n",
      "tensor(1.3223)\n",
      "tensor(1.3223)\n"
     ]
    }
   ],
   "source": [
    "a = torch.rand(2, 4)\n",
    "b = torch.rand(4)\n",
    "c = b @ a.mT\n",
    "print(c.shape)\n",
    "print(torch.linalg.norm(b))\n",
    "\n",
    "# equivalent to above linalg call\n",
    "print(b.pow(2).sum().sqrt())"
   ]
  }
 ],
 "metadata": {
  "kernelspec": {
   "display_name": "Python 3",
   "language": "python",
   "name": "python3"
  },
  "language_info": {
   "codemirror_mode": {
    "name": "ipython",
    "version": 3
   },
   "file_extension": ".py",
   "mimetype": "text/x-python",
   "name": "python",
   "nbconvert_exporter": "python",
   "pygments_lexer": "ipython3",
   "version": "3.11.9"
  }
 },
 "nbformat": 4,
 "nbformat_minor": 2
}
