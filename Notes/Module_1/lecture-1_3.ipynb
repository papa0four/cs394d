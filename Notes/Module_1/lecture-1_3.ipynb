{
 "cells": [
  {
   "cell_type": "markdown",
   "metadata": {},
   "source": [
    "## Lecture 1.3: Distributions and Sampling in PyTorch"
   ]
  },
  {
   "cell_type": "code",
   "execution_count": 8,
   "metadata": {},
   "outputs": [],
   "source": [
    "import torch\n",
    "import torch.distributions as dist"
   ]
  },
  {
   "cell_type": "code",
   "execution_count": 9,
   "metadata": {},
   "outputs": [
    {
     "name": "stdout",
     "output_type": "stream",
     "text": [
      "Bernoulli(probs: tensor([0.5000]))\n",
      "tensor([1.])\n",
      "tensor([1.])\n",
      "tensor([1.])\n",
      "tensor([1.])\n",
      "tensor([1.])\n",
      "tensor([1.])\n",
      "tensor([0.])\n",
      "tensor([1.])\n",
      "tensor([0.])\n",
      "tensor([0.])\n"
     ]
    }
   ],
   "source": [
    "## Lets create a Bernoulli distribution\n",
    "bernoulli = dist.Bernoulli(torch.tensor([0.5]))\n",
    "print(bernoulli)\n",
    "\n",
    "## Sample from the distribution\n",
    "for _ in range(10):\n",
    "    print(bernoulli.sample())"
   ]
  },
  {
   "cell_type": "code",
   "execution_count": 12,
   "metadata": {},
   "outputs": [
    {
     "name": "stdout",
     "output_type": "stream",
     "text": [
      "Mean: 0.5239999890327454\n",
      "Variance: 0.24967367947101593\n"
     ]
    }
   ],
   "source": [
    "samples = [bernoulli.sample() for _ in range(1000)]\n",
    "print(f\"Mean: {torch.mean(torch.stack(samples))}\")\n",
    "print(f\"Variance: {torch.var(torch.stack(samples))}\")"
   ]
  },
  {
   "cell_type": "code",
   "execution_count": 13,
   "metadata": {},
   "outputs": [
    {
     "name": "stdout",
     "output_type": "stream",
     "text": [
      "tensor([-0.7229])\n",
      "tensor([1.1160])\n",
      "tensor([-1.4577])\n",
      "tensor([0.9672])\n",
      "tensor([1.1499])\n",
      "tensor([1.7813])\n",
      "tensor([0.5224])\n",
      "tensor([0.0227])\n",
      "tensor([-0.2280])\n",
      "tensor([1.6521])\n"
     ]
    }
   ],
   "source": [
    "## Lets create a Gaussian distribution\n",
    "normal = dist.Normal(torch.tensor([0.0]), torch.tensor([1.0]))\n",
    "for _ in range(10):\n",
    "    print(normal.sample())"
   ]
  },
  {
   "cell_type": "code",
   "execution_count": 14,
   "metadata": {},
   "outputs": [
    {
     "name": "stdout",
     "output_type": "stream",
     "text": [
      "Mean: 0.029531698673963547\n",
      "Variance: 1.028912901878357\n"
     ]
    }
   ],
   "source": [
    "samples = [normal.sample() for _ in range(1000)]\n",
    "print(f\"Mean: {torch.mean(torch.stack(samples))}\")\n",
    "print(f\"Variance: {torch.var(torch.stack(samples))}\")"
   ]
  }
 ],
 "metadata": {
  "language_info": {
   "name": "python"
  }
 },
 "nbformat": 4,
 "nbformat_minor": 2
}
