{
 "cells": [
  {
   "cell_type": "markdown",
   "metadata": {},
   "source": [
    "## Module 3.0: Deep Networks"
   ]
  },
  {
   "cell_type": "markdown",
   "metadata": {},
   "source": [
    "#### Recap: Linear Binary Classification\n",
    "\n",
    "Binary Classification Model: </br>\n",
    "&ensp;&ensp;&ensp;&ensp;$f_{\\theta}\\ :\\ \\mathbb{R}^{n}\\ \\rightarrow\\ [0,\\ 1]$\n",
    "\n",
    "Linear Binary Classification: </br>\n",
    "&ensp;&ensp;&ensp;&ensp;$f_{\\theta}(x)\\ =\\ \\sigma(\\text{Wx + b})$ </br>\n",
    "&ensp;&ensp;&ensp;&ensp;$\\sigma(x)\\ =\\ \\frac{1}{1\\ +\\ e^{-x}}$\n",
    "\n",
    "#### Limitations of Linear Models\n",
    "\n",
    "Binary paw classification </br>\n",
    "* Dog paw or not - A linear model cannot distinguish paws from background\n",
    "* By linearity, </br>\n",
    "    * $\\text{W}^{T}\\text{x}_{1}\\ +\\ \\text{b}\\ >\\ 0$&ensp;&ensp;&ensp;&ensp;$\\text{x}_{1}\\ =\\ (\\text{white paw})$\n",
    "    * $\\text{W}^{T}\\text{x}_{2}\\ +\\ \\text{b}\\ >\\ 0$&ensp;&ensp;&ensp;&ensp;$\\text{x}_{2}\\ =\\ (\\text{black paw})$\n",
    "    * Then, $\\text{W}^{T}\\text{x}\\ +\\ \\text{b}\\ >\\ 0$\n",
    "        * for any $\\text{x}\\ =\\ \\alpha\\text{x}_{1}\\ +\\ (1\\ -\\ \\alpha)\\text{x}_{2}$\n",
    "        * gray background $=\\ \\frac{1}{2}\\text{x}_{1}\\ +\\ \\frac{1}{2}\\text{x}_{2}$\n",
    "* Cannot learn XOR function\n",
    "\n",
    "#### Does adding more linear layers help?\n",
    "\n",
    "$x\\ \\rightarrow\\ \\text{Linear}\\ \\rightarrow\\ \\text{Linear}\\ \\rightarrow\\ \\text{Linear}\\ \\rightarrow\\ \\text{o}$\n",
    "\n",
    "The answer: No </br>\n",
    "Combination of linear layers is still linear!\n",
    "\n",
    "&ensp;&ensp;&ensp;&ensp;$\\text{W}_{2}(\\text{W}_{1}\\ +\\ \\text{b}_{1})\\ +\\ \\text{b}_{2}$\n",
    "\n",
    "&ensp;&ensp;&ensp;&ensp;$=\\ (\\text{W}_{2}\\text{W}_{1})\\text{x}\\ +\\ (\\text{W}_{2}\\text{b}_{1}\\ +\\ \\text{b}_{2})$\n",
    "\n",
    "&ensp;&ensp;&ensp;&ensp;$=\\text{W}'\\text{x}\\ +\\ \\text{b}'$\n",
    "\n",
    "#### Solution: Deep Networks\n",
    "\n",
    "Add layers that are not linear </br>\n",
    "$x\\ \\rightarrow\\ \\text{Linear}\\ \\rightarrow\\ \\text{ReLU}\\ \\rightarrow\\ \\text{Linear}\\ \\rightarrow\\ \\text{ReLU}\\ \\rightarrow\\ \\text{Linear}\\ \\rightarrow\\ \\text{o}$"
   ]
  },
  {
   "cell_type": "markdown",
   "metadata": {},
   "source": []
  }
 ],
 "metadata": {
  "language_info": {
   "name": "python"
  }
 },
 "nbformat": 4,
 "nbformat_minor": 2
}
