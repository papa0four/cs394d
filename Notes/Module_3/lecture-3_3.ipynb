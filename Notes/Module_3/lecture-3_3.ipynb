{
 "cells": [
  {
   "cell_type": "markdown",
   "metadata": {},
   "source": [
    "## Lecture 3.3: Output Representations"
   ]
  },
  {
   "cell_type": "markdown",
   "metadata": {},
   "source": [
    "#### Recap: Deep Networks\n",
    "\n",
    "**Universal Approximation Theorem**\n",
    "\n",
    "A two-layer deep network can approximate any continuous function.\n",
    "\n",
    "We might not always want continuous (real-valued) outputs\n",
    "* How can we convert the real value to what we want?\n",
    "\n",
    "$x\\ \\rightarrow\\ \\text{Linear}\\ \\rightarrow\\ \\text{ReLU}\\ \\rightarrow\\ \\text{Linear}\\ \\rightarrow\\ \\text{ReLU}\\ \\rightarrow\\ \\text{Linear}\\ \\rightarrow\\ \\text{o}$"
   ]
  },
  {
   "cell_type": "markdown",
   "metadata": {},
   "source": [
    "#### Inputs and Outputs of Networks\n",
    "\n",
    "Input: $\\text{x}\\ \\in\\ \\mathbb{R}^{n}$\n",
    "\n",
    "Output: $\\text{o}\\ =\\ f_{\\theta}(\\text{x})$\n",
    "\n",
    "* $f_{\\theta}$: deep network\n",
    "\n",
    "$x\\ \\rightarrow\\ \\text{Linear}\\ \\rightarrow\\ \\text{ReLU}\\ \\rightarrow\\ \\text{Linear}\\ \\rightarrow\\ \\text{ReLU}\\ \\rightarrow\\ \\text{Linear}\\ \\rightarrow\\ \\text{o}$\n",
    "\n",
    "Output transformations: $g$\n",
    "\n",
    "&ensp;&ensp;&ensp;&ensp;$\\psi\\ :\\ f_{\\theta}\\ \\circ\\ g$\n",
    "\n",
    "#### Positive Regression\n",
    "\n",
    "Positive regression: $\\psi\\ :\\ \\mathbb{R}^{n}\\ \\rightarrow\\ \\mathbb{R}_{+}$\n",
    "\n",
    "Option 1: ReLU\n",
    "* $\\hat{y}\\ =\\ g(\\text{o})\\ =\\ \\text{max}(\\text{o},\\ 0)$\n",
    "\n",
    "Option 2: Soft ReLU\n",
    "* $\\hat{y}\\ =\\ g(\\text{o})\\ =\\ \\text{log}(1\\ +\\ e^{\\text{o}})$\n",
    "\n",
    "$x\\ \\rightarrow\\ \\text{Linear}\\ \\rightarrow\\ \\text{ReLU}\\ \\rightarrow\\ \\text{...}\\ \\rightarrow\\ \\text{Linear}\\ \\rightarrow\\ \\text{g}\\ \\rightarrow\\ \\hat{y}$\n",
    "\n",
    "where $f_{\\theta}$ lies within the linear computation layers and $\\psi$ lies within all interim layers before computing $\\hat{y}$"
   ]
  },
  {
   "cell_type": "markdown",
   "metadata": {},
   "source": [
    "#### Regression\n",
    "\n",
    "Regression: $\\psi\\ :\\ \\mathbb{R}^{n}\\ \\rightarrow\\ \\mathbb{R}$\n",
    "* Identity mappging: $g(\\text{o})\\ =\\ \\text{o}$\n",
    "\n",
    "$x\\ \\rightarrow\\ \\text{Linear}\\ \\rightarrow\\ \\text{ReLU}\\ \\rightarrow\\ \\text{...}\\ \\rightarrow\\ \\text{Linear}\\ \\rightarrow\\ \\text{g(o) = o}\\ \\rightarrow\\ \\hat{y}$\n",
    "\n",
    "where $f_{\\theta}$ lies within the linear computation layers and $\\psi$ lies within all interim layers before computing $\\hat{y}$"
   ]
  },
  {
   "cell_type": "markdown",
   "metadata": {},
   "source": []
  }
 ],
 "metadata": {
  "language_info": {
   "name": "python"
  }
 },
 "nbformat": 4,
 "nbformat_minor": 2
}
