{
 "cells": [
  {
   "cell_type": "markdown",
   "metadata": {},
   "source": [
    "## Lecture 3.4: Loss Functions"
   ]
  },
  {
   "cell_type": "markdown",
   "metadata": {},
   "source": [
    "#### Recap: Output Transformations\n",
    "\n",
    "Input: $\\text{x}$\n",
    "\n",
    "Output: $\\text{o}$\n",
    "\n",
    "Output transformation: $g$\n",
    "\n",
    "$x\\ \\rightarrow\\ \\text{Linear}\\ \\rightarrow\\ \\text{ReLU}\\ \\rightarrow\\ \\text{...}\\ \\rightarrow\\ \\text{Linear}\\ \\rightarrow\\ \\text{g}\\ \\rightarrow\\ \\hat{\\text{y}}$\n",
    "\n",
    "where $f_{\\theta}$ lies within the linear computation layers and $\\psi$ lies within all interim layers before computing $\\hat{y}$"
   ]
  },
  {
   "cell_type": "markdown",
   "metadata": {},
   "source": [
    "Training\n",
    "\n",
    "$x\\ \\rightarrow\\ \\text{Linear}\\ \\rightarrow\\ \\text{ReLU}\\ \\rightarrow\\ \\text{...}\\ \\text{Linear}\\ \\rightarrow\\ \\text{Loss}\\ \\leftarrow\\ \\text{y}$"
   ]
  },
  {
   "cell_type": "markdown",
   "metadata": {},
   "source": [
    "Inference\n",
    "\n",
    "$x\\ \\rightarrow\\ \\text{Linear}\\ \\rightarrow\\ \\text{ReLU}\\ \\rightarrow\\ \\text{...}\\ \\rightarrow\\ \\text{Linear}\\ \\rightarrow\\ \\text{g}\\ \\rightarrow\\ \\hat{\\text{y}}$\n",
    "\n",
    "where $f_{\\theta}$ lies within the linear computation layers and $\\psi$ lies within all interim layers before computing $\\hat{y}$"
   ]
  },
  {
   "cell_type": "markdown",
   "metadata": {},
   "source": [
    "#### Recap: Loss\n",
    "\n",
    "Loss function: </br>\n",
    "&ensp;&ensp;&ensp;&ensp;$l(\\theta\\ |\\ \\text{x}_{i},\\ \\text{y}_{i})$\n",
    "\n",
    "Expected Loss: </br>\n",
    "&ensp;&ensp;&ensp;&ensp;$L(\\theta\\ |\\ \\mathcal{D})\\ =\\ \\mathbb{E}_{(\\text{x},\\ \\text{y})\\ \\sim\\ \\mathcal{D}}[l(\\theta\\ |\\ \\text{x},\\ \\text{y})]$\n",
    "\n",
    "$x\\ \\rightarrow\\ \\text{Linear}\\ \\rightarrow\\ \\text{ReLU}\\ \\rightarrow\\ \\text{...}\\ \\text{Linear}\\ \\rightarrow\\ \\text{Loss}\\ \\leftarrow\\ \\text{y}$"
   ]
  },
  {
   "cell_type": "markdown",
   "metadata": {},
   "source": [
    "#### Regression\n",
    "\n",
    "Regression: $\\psi\\ :\\ \\mathbb{R}^{n}\\ \\rightarrow\\ \\mathbb{R}$\n",
    "\n",
    "L1 Loss: </br>\n",
    "$l(\\theta\\ |\\ \\text{x},\\ \\text{y})\\ =\\ ||\\text{y}\\ -\\ \\text{o}||_{1}\\ =\\ ||\\text{y}\\ -\\ f_{\\theta}(\\text{x})||_{1}$\n",
    "\n",
    "L2 Loss: </br>\n",
    "$l(\\theta\\ |\\ \\text{x},\\ \\text{y})\\ =\\ ||\\text{y}\\ -\\ \\text{o}||_{2}^{2}\\ =\\ ||\\text{y}\\ -\\ f_{\\theta}(\\text{x})||_{2}^{2}$"
   ]
  },
  {
   "cell_type": "markdown",
   "metadata": {},
   "source": [
    "#### Binary Classification\n",
    "\n",
    "Binary classification $\\psi\\ :\\ \\mathbb{R}^{n}\\ \\rightarrow\\ [0,\\ 1]$\n",
    "* labels $y\\ \\in\\ \\{0,\\ 1\\}$\n",
    "\n",
    "Likelihood estimation\n",
    "* $p(0)\\ =\\ 1\\ -\\ \\sigma(f_{\\theta}(x))$\n",
    "* $p(1)\\ =\\ \\sigma(f_{\\theta}(x))$\n",
    "\n",
    "Binary cross entroy (negative log-likelihood) </br>\n",
    "&ensp;&ensp;&ensp;&ensp;$l(\\theta\\ |\\ \\text{x},\\ \\text{y})\\ \\ =\\ -\\text{log}\\ p(y)$\n",
    "\n",
    "&ensp;&ensp;&ensp;&ensp;&ensp;&ensp;&ensp;&ensp;&ensp;&ensp;&ensp;&ensp;&ensp;&ensp;&ensp;&ensp;$=\\ -[y\\ \\text{log}\\ p(1)\\ +\\ (1\\ -\\ y)\\ \\text{log}\\ p(0)]$"
   ]
  },
  {
   "cell_type": "markdown",
   "metadata": {},
   "source": []
  }
 ],
 "metadata": {
  "language_info": {
   "name": "python"
  }
 },
 "nbformat": 4,
 "nbformat_minor": 2
}
